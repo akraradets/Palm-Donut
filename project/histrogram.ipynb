{
 "cells": [
  {
   "cell_type": "code",
   "execution_count": 51,
   "metadata": {},
   "outputs": [],
   "source": [
    "import geopandas as gpd\n",
    "from glob import glob\n",
    "import os \n",
    "import pandas as pd\n",
    "import numpy as np\n",
    "\n",
    "def gen_buffer_dict(buffer:float) -> dict:\n",
    "    import warnings\n",
    "    lower_threshold = 3\n",
    "    upper_threshold = 8\n",
    "    upper_limit = 10\n",
    "    if(buffer <= lower_threshold):\n",
    "        raise ValueError(f\"Buffer can not be less than {lower_threshold}. {buffer=}\")\n",
    "    elif(buffer > upper_threshold):\n",
    "        raise ValueError(f\"Buffer should not be grater or equal than {upper_threshold}. {buffer=}\")\n",
    "\n",
    "    buffer_dict = {\n",
    "        \"circle_s\": 2,\n",
    "        \"circle_m\": buffer - 2,\n",
    "        \"circle_l\": buffer,\n",
    "        \"donut_o\": (buffer, buffer - 2),\n",
    "        \"donut_i\": (buffer - 2, 2),\n",
    "    }\n",
    "    return buffer_dict\n",
    "\n",
    "buffer = 5.5\n",
    "shape_path = \"/root/data/SHP/CR11_status.shp\""
   ]
  },
  {
   "cell_type": "code",
   "execution_count": 34,
   "metadata": {},
   "outputs": [],
   "source": [
    "geo_shape = gpd.read_file(shape_path)\n",
    "buffer_dict = gen_buffer_dict(buffer)"
   ]
  },
  {
   "cell_type": "code",
   "execution_count": 35,
   "metadata": {},
   "outputs": [],
   "source": [
    "def get_histogram(path:str) -> list[float]:\n",
    "    import rasterio\n",
    "    import numpy as np\n",
    "    src = rasterio.open(path)\n",
    "    arr = src.read()\n",
    "    arr = np.array(arr)\n",
    "    arr.flatten()\n",
    "    arr = arr[(arr > -3.4028235e+38)]\n",
    "    arr = arr[(arr > arr.min())]\n",
    "    total = len(arr)\n",
    "\n",
    "    hists = []\n",
    "\n",
    "    hists.append(arr[(arr < 0)])\n",
    "    hists.append(arr[(arr >= 0) & (arr <= 0.1)])\n",
    "    hists.append(arr[(arr > 0.1) & (arr <= 0.2)])\n",
    "    hists.append(arr[(arr > 0.2) & (arr <= 0.3)])\n",
    "    hists.append(arr[(arr > 0.3) & (arr <= 0.4)])\n",
    "    hists.append(arr[(arr > 0.4) & (arr <= 0.5)])\n",
    "    hists.append(arr[(arr > 0.5) & (arr <= 0.6)])\n",
    "    hists.append(arr[(arr > 0.6) & (arr <= 0.7)])\n",
    "    hists.append(arr[(arr > 0.7) & (arr <= 0.8)])\n",
    "    hists.append(arr[(arr > 0.8) & (arr <= 0.9)])\n",
    "    hists.append(arr[(arr > 0.9)])\n",
    "\n",
    "    for idx, hist in enumerate(hists):\n",
    "        hists[idx] = round( 100*len(hist)/total , 2)\n",
    "\n",
    "    return hists"
   ]
  },
  {
   "cell_type": "code",
   "execution_count": 36,
   "metadata": {},
   "outputs": [
    {
     "name": "stdout",
     "output_type": "stream",
     "text": [
      "data/buffer/CR11-BMP-200_circle_s.tiff\n",
      "True\n"
     ]
    }
   ],
   "source": [
    "for idx, geo in geo_shape.iterrows():\n",
    "    index = geo['MainID'] if 'MainID' in geo.keys() else idx\n",
    "    buffer_name = list(buffer_dict.items())[0][0]\n",
    "    filename = f\"{index}_{buffer_name}.tiff\"\n",
    "    path = os.path.join('data','buffer',filename)\n",
    "    print(path)\n",
    "    print(os.path.exists(path))\n",
    "    break"
   ]
  },
  {
   "cell_type": "code",
   "execution_count": 43,
   "metadata": {},
   "outputs": [
    {
     "name": "stdout",
     "output_type": "stream",
     "text": [
      "CR11-BMP-200_circle_s.tiff\n",
      "CR11-BMP-200_circle_m.tiff\n",
      "CR11-BMP-200_circle_l.tiff\n",
      "CR11-BMP-200_donut_o.tiff\n",
      "CR11-BMP-200_donut_i.tiff\n"
     ]
    }
   ],
   "source": [
    "hists = []\n",
    "columns = []\n",
    "temp_names = ['mi', '00', '01', \n",
    "             '02', '03', '04', \n",
    "             '05', '06', '07', \n",
    "             '08', '09']\n",
    "for buffer_name,_ in buffer_dict.items():\n",
    "    filename = f\"{index}_{buffer_name}.tiff\"\n",
    "    path = os.path.join('data','buffer',filename)\n",
    "    if(os.path.exists(path) == False):\n",
    "        raise FileExistsError(f\"filename={path} not exist.\")\n",
    "    print(filename)\n",
    "    for temp_name in temp_names:\n",
    "        columns.append(f\"{buffer_name}_{temp_name}\")\n",
    "    hists.extend(get_histogram(path))"
   ]
  },
  {
   "cell_type": "code",
   "execution_count": 62,
   "metadata": {},
   "outputs": [],
   "source": [
    "X = pd.DataFrame(columns=columns,data=np.array(hists).reshape(1,-1))"
   ]
  },
  {
   "cell_type": "code",
   "execution_count": 63,
   "metadata": {},
   "outputs": [],
   "source": [
    "import pickle\n",
    "with open('model/RandomForestClassifier', 'rb') as handle:\n",
    "    model = pickle.load(handle)"
   ]
  },
  {
   "cell_type": "code",
   "execution_count": 65,
   "metadata": {},
   "outputs": [
    {
     "data": {
      "text/plain": [
       "array([0])"
      ]
     },
     "execution_count": 65,
     "metadata": {},
     "output_type": "execute_result"
    }
   ],
   "source": [
    "model.predict(X[model.feature_names_in_])"
   ]
  }
 ],
 "metadata": {
  "kernelspec": {
   "display_name": "project-75lbbUUP",
   "language": "python",
   "name": "python3"
  },
  "language_info": {
   "codemirror_mode": {
    "name": "ipython",
    "version": 3
   },
   "file_extension": ".py",
   "mimetype": "text/x-python",
   "name": "python",
   "nbconvert_exporter": "python",
   "pygments_lexer": "ipython3",
   "version": "3.10.12"
  }
 },
 "nbformat": 4,
 "nbformat_minor": 2
}
