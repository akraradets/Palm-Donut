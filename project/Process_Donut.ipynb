{
 "cells": [
  {
   "cell_type": "code",
   "execution_count": 5,
   "metadata": {},
   "outputs": [],
   "source": [
    "import geopandas as gpd\n",
    "import rasterio\n",
    "from rasterio.mask import mask\n",
    "import matplotlib.pyplot as plt\n",
    "import os\n",
    "import numpy as np\n",
    "import copy"
   ]
  },
  {
   "cell_type": "code",
   "execution_count": 2,
   "metadata": {},
   "outputs": [],
   "source": [
    "shape_path = \"/root/data/SHP/CR11_status.shp\"\n",
    "ndvi_path = \"/root/data/NDVI/FIELD_20200716_03_MULT_CR11_090_M04_index_ndvi_register.tiff\""
   ]
  },
  {
   "cell_type": "code",
   "execution_count": 3,
   "metadata": {},
   "outputs": [],
   "source": [
    "# read file\n",
    "gdf = gpd.read_file(shape_path)\n",
    "ndvi_source = rasterio.open(ndvi_path)\n",
    "transform = ndvi_source.transform\n",
    "originalmeta = ndvi_source.meta\n",
    "ndvi = ndvi_source.read(1)\n",
    "crs = ndvi_source.crs\n",
    "\n",
    "# check intersection\n",
    "if gdf.total_bounds[0] > ndvi_source.transform[2] + ndvi.shape[1] * ndvi_source.transform[0] or \\\n",
    "   gdf.total_bounds[2] < ndvi_source.transform[2] or \\\n",
    "   gdf.total_bounds[1] > ndvi_source.transform[5] or \\\n",
    "   gdf.total_bounds[3] < ndvi_source.transform[5] + ndvi.shape[0] * ndvi_source.transform[4]:\n",
    "    assert ValueError(f\"The shapefile and image do not intersect. {shape_path=} | {ndvi_path}\")\n"
   ]
  },
  {
   "cell_type": "code",
   "execution_count": 13,
   "metadata": {},
   "outputs": [],
   "source": [
    "output_buffer_path = \"/root/data/buffer\"\n",
    "if(os.path.exists(output_buffer_path) == False):\n",
    "    os.makedirs(output_buffer_path)\n",
    "\n",
    "for idx, row in gdf.iterrows():\n",
    "    index = row['MainID'] if 'MainID' in row.keys() else idx\n",
    "    # Create buffer around point\n",
    "    buffered = row.geometry.buffer(5.5) - row.geometry.buffer(2)\n",
    "    # Mask image with buffer\n",
    "    out_image, out_transform = mask(dataset=ndvi_source, shapes=[buffered], nodata=-999, crop=True)\n",
    "    out_image = np.array(out_image, dtype=np.float32)\n",
    "\n",
    "    # Get output window based on buffer\n",
    "    out_window = rasterio.windows.from_bounds(*buffered.bounds, transform=out_transform)\n",
    "\n",
    "    # Update metadata\n",
    "    meta = copy.deepcopy(originalmeta)\n",
    "    meta.update({\n",
    "        'driver': 'GTiff',\n",
    "        'height': out_image.shape[1],\n",
    "        'width': out_image.shape[2],\n",
    "        'transform': out_transform,\n",
    "        'nodata': -999,\n",
    "        'crs': crs\n",
    "    })\n",
    "\n",
    "    # Write masked image  to GeoTIFF\n",
    "    output_file = os.path.join(output_buffer_path, f\"{index}.tiff\")\n",
    "    with rasterio.open(output_file, 'w', **meta) as dst:\n",
    "        dst.write(out_image, window=out_window)"
   ]
  },
  {
   "cell_type": "code",
   "execution_count": 11,
   "metadata": {},
   "outputs": [
    {
     "data": {
      "image/svg+xml": [
       "<svg xmlns=\"http://www.w3.org/2000/svg\" xmlns:xlink=\"http://www.w3.org/1999/xlink\" width=\"100.0\" height=\"100.0\" viewBox=\"525087.3974791453 1012686.7128776601 11.879999999888241 11.879999999888241\" preserveAspectRatio=\"xMinYMin meet\"><g transform=\"matrix(1,0,0,-1,0,2025385.30575532)\"><path fill-rule=\"evenodd\" fill=\"#66cc99\" stroke=\"#555555\" stroke-width=\"0.23759999999776482\" opacity=\"0.6\" d=\"M 525098.810995142,1012692.1137833882 L 525098.7317981875,1012691.5798808889 L 525098.6006509918,1012691.0563119351 L 525098.418816574,1012690.548118782 L 525098.1880460992,1012690.0601956075 L 525097.9105620129,1012689.5972413784 L 525097.5890366387,1012689.1637145971 L 525097.2265664418,1012688.7637903634 L 525096.8266422082,1012688.4013201665 L 525096.3931154269,1012688.0797947923 L 525095.9301611978,1012687.8023107061 L 525095.4422380233,1012687.5715402312 L 525094.9340448702,1012687.3897058135 L 525094.4104759163,1012687.2585586178 L 525093.8765734171,1012687.1793616633 L 525093.3374791453,1012687.15287766 L 525092.7983848734,1012687.1793616633 L 525092.2644823742,1012687.2585586178 L 525091.7409134203,1012687.3897058135 L 525091.2327202673,1012687.5715402312 L 525090.7447970927,1012687.8023107061 L 525090.2818428637,1012688.0797947923 L 525089.8483160824,1012688.4013201665 L 525089.4483918487,1012688.7637903634 L 525089.0859216518,1012689.1637145971 L 525088.7643962776,1012689.5972413784 L 525088.4869121914,1012690.0601956075 L 525088.2561417165,1012690.548118782 L 525088.0743072988,1012691.0563119351 L 525087.943160103,1012691.5798808889 L 525087.8639631486,1012692.1137833882 L 525087.8374791453,1012692.65287766 L 525087.8639631486,1012693.1919719318 L 525087.943160103,1012693.7258744311 L 525088.0743072988,1012694.2494433849 L 525088.2561417165,1012694.757636538 L 525088.4869121914,1012695.2455597125 L 525088.7643962776,1012695.7085139416 L 525089.0859216518,1012696.1420407229 L 525089.4483918487,1012696.5419649566 L 525089.8483160824,1012696.9044351535 L 525090.2818428637,1012697.2259605277 L 525090.7447970927,1012697.5034446139 L 525091.2327202673,1012697.7342150888 L 525091.7409134203,1012697.9160495065 L 525092.2644823742,1012698.0471967022 L 525092.7983848734,1012698.1263936567 L 525093.3374791453,1012698.15287766 L 525093.8765734171,1012698.1263936567 L 525094.4104759163,1012698.0471967022 L 525094.9340448702,1012697.9160495065 L 525095.4422380233,1012697.7342150888 L 525095.9301611978,1012697.5034446139 L 525096.3931154269,1012697.2259605277 L 525096.8266422082,1012696.9044351535 L 525097.2265664418,1012696.5419649566 L 525097.5890366387,1012696.1420407229 L 525097.9105620129,1012695.7085139416 L 525098.1880460992,1012695.2455597125 L 525098.418816574,1012694.757636538 L 525098.6006509918,1012694.2494433849 L 525098.7317981875,1012693.7258744311 L 525098.810995142,1012693.1919719318 L 525098.8374791453,1012692.65287766 L 525098.810995142,1012692.1137833882 z M 525095.3278485986,1012692.8489119407 L 525095.2990497061,1012693.043058304 L 525095.2513598168,1012693.2334470145 L 525095.1852382103,1012693.4182445247 L 525095.101321674,1012693.5956711336 L 525095.0004183699,1012693.7640181261 L 525094.883500052,1012693.9216642283 L 525094.7516927077,1012694.0670912224 L 525094.6062657136,1012694.1988985668 L 525094.4486196113,1012694.3158168846 L 525094.2802726189,1012694.4167201887 L 525094.10284601,1012694.500636725 L 525093.9180484997,1012694.5667583315 L 525093.7276597893,1012694.6144482208 L 525093.533513426,1012694.6432471133 L 525093.3374791453,1012694.65287766 L 525093.1414448646,1012694.6432471133 L 525092.9472985013,1012694.6144482208 L 525092.7569097908,1012694.5667583315 L 525092.5721122805,1012694.500636725 L 525092.3946856717,1012694.4167201887 L 525092.2263386792,1012694.3158168846 L 525092.068692577,1012694.1988985668 L 525091.9232655829,1012694.0670912224 L 525091.7914582385,1012693.9216642283 L 525091.6745399206,1012693.7640181261 L 525091.5736366166,1012693.5956711336 L 525091.4897200803,1012693.4182445247 L 525091.4235984738,1012693.2334470145 L 525091.3759085845,1012693.043058304 L 525091.3471096919,1012692.8489119407 L 525091.3374791453,1012692.65287766 L 525091.3471096919,1012692.4568433793 L 525091.3759085845,1012692.262697016 L 525091.4235984738,1012692.0723083055 L 525091.4897200803,1012691.8875107953 L 525091.5736366166,1012691.7100841864 L 525091.6745399206,1012691.5417371939 L 525091.7914582385,1012691.3840910917 L 525091.9232655829,1012691.2386640976 L 525092.068692577,1012691.1068567532 L 525092.2263386792,1012690.9899384354 L 525092.3946856717,1012690.8890351313 L 525092.5721122805,1012690.805118595 L 525092.7569097908,1012690.7389969885 L 525092.9472985013,1012690.6913070992 L 525093.1414448646,1012690.6625082067 L 525093.3374791453,1012690.65287766 L 525093.533513426,1012690.6625082067 L 525093.7276597893,1012690.6913070992 L 525093.9180484997,1012690.7389969885 L 525094.10284601,1012690.805118595 L 525094.2802726189,1012690.8890351313 L 525094.4486196113,1012690.9899384354 L 525094.6062657136,1012691.1068567532 L 525094.7516927077,1012691.2386640976 L 525094.883500052,1012691.3840910917 L 525095.0004183699,1012691.5417371939 L 525095.101321674,1012691.7100841864 L 525095.1852382103,1012691.8875107953 L 525095.2513598168,1012692.0723083055 L 525095.2990497061,1012692.262697016 L 525095.3278485986,1012692.4568433793 L 525095.3374791453,1012692.65287766 L 525095.3278485986,1012692.8489119407 z\" /></g></svg>"
      ],
      "text/plain": [
       "<POLYGON ((525098.811 1012692.114, 525098.732 1012691.58, 525098.601 1012691...>"
      ]
     },
     "execution_count": 11,
     "metadata": {},
     "output_type": "execute_result"
    }
   ],
   "source": [
    "buffered - buffered_small"
   ]
  },
  {
   "cell_type": "code",
   "execution_count": 13,
   "metadata": {},
   "outputs": [
    {
     "data": {
      "text/plain": [
       "False"
      ]
     },
     "execution_count": 13,
     "metadata": {},
     "output_type": "execute_result"
    }
   ],
   "source": [
    "meta == originalmeta"
   ]
  },
  {
   "cell_type": "code",
   "execution_count": 29,
   "metadata": {},
   "outputs": [
    {
     "ename": "ValueError",
     "evalue": "Buffer should not be grater or equal than 8. buffer=8.1",
     "output_type": "error",
     "traceback": [
      "\u001b[0;31m---------------------------------------------------------------------------\u001b[0m",
      "\u001b[0;31mValueError\u001b[0m                                Traceback (most recent call last)",
      "\u001b[1;32m/root/project/Process_Donut.ipynb Cell 7\u001b[0m line \u001b[0;36m1\n\u001b[1;32m     <a href='vscode-notebook-cell://attached-container%2B7b22636f6e7461696e65724e616d65223a222f646f6e75742d6170692d31227d/root/project/Process_Donut.ipynb#W6sdnNjb2RlLXJlbW90ZQ%3D%3D?line=14'>15</a>\u001b[0m     donut_mid \u001b[39m=\u001b[39m (mid, inner)\n\u001b[1;32m     <a href='vscode-notebook-cell://attached-container%2B7b22636f6e7461696e65724e616d65223a222f646f6e75742d6170692d31227d/root/project/Process_Donut.ipynb#W6sdnNjb2RlLXJlbW90ZQ%3D%3D?line=15'>16</a>\u001b[0m     \u001b[39mreturn\u001b[39;00m [full, mid, inner, donut_full, donut_mid]\n\u001b[0;32m---> <a href='vscode-notebook-cell://attached-container%2B7b22636f6e7461696e65724e616d65223a222f646f6e75742d6170692d31227d/root/project/Process_Donut.ipynb#W6sdnNjb2RlLXJlbW90ZQ%3D%3D?line=17'>18</a>\u001b[0m gen_buffer_list(\u001b[39m8.1\u001b[39;49m)\n",
      "\u001b[1;32m/root/project/Process_Donut.ipynb Cell 7\u001b[0m line \u001b[0;36m9\n\u001b[1;32m      <a href='vscode-notebook-cell://attached-container%2B7b22636f6e7461696e65724e616d65223a222f646f6e75742d6170692d31227d/root/project/Process_Donut.ipynb#W6sdnNjb2RlLXJlbW90ZQ%3D%3D?line=6'>7</a>\u001b[0m     \u001b[39mraise\u001b[39;00m \u001b[39mValueError\u001b[39;00m(\u001b[39mf\u001b[39m\u001b[39m\"\u001b[39m\u001b[39mBuffer can not be less than \u001b[39m\u001b[39m{\u001b[39;00mlower_threshold\u001b[39m}\u001b[39;00m\u001b[39m. \u001b[39m\u001b[39m{\u001b[39;00mbuffer\u001b[39m=}\u001b[39;00m\u001b[39m\"\u001b[39m)\n\u001b[1;32m      <a href='vscode-notebook-cell://attached-container%2B7b22636f6e7461696e65724e616d65223a222f646f6e75742d6170692d31227d/root/project/Process_Donut.ipynb#W6sdnNjb2RlLXJlbW90ZQ%3D%3D?line=7'>8</a>\u001b[0m \u001b[39melif\u001b[39;00m(buffer \u001b[39m>\u001b[39m upper_threshold):\n\u001b[0;32m----> <a href='vscode-notebook-cell://attached-container%2B7b22636f6e7461696e65724e616d65223a222f646f6e75742d6170692d31227d/root/project/Process_Donut.ipynb#W6sdnNjb2RlLXJlbW90ZQ%3D%3D?line=8'>9</a>\u001b[0m     \u001b[39mraise\u001b[39;00m \u001b[39mValueError\u001b[39;00m(\u001b[39mf\u001b[39m\u001b[39m\"\u001b[39m\u001b[39mBuffer should not be grater or equal than \u001b[39m\u001b[39m{\u001b[39;00mupper_threshold\u001b[39m}\u001b[39;00m\u001b[39m. \u001b[39m\u001b[39m{\u001b[39;00mbuffer\u001b[39m=}\u001b[39;00m\u001b[39m\"\u001b[39m)\n\u001b[1;32m     <a href='vscode-notebook-cell://attached-container%2B7b22636f6e7461696e65724e616d65223a222f646f6e75742d6170692d31227d/root/project/Process_Donut.ipynb#W6sdnNjb2RlLXJlbW90ZQ%3D%3D?line=10'>11</a>\u001b[0m full \u001b[39m=\u001b[39m buffer\n\u001b[1;32m     <a href='vscode-notebook-cell://attached-container%2B7b22636f6e7461696e65724e616d65223a222f646f6e75742d6170692d31227d/root/project/Process_Donut.ipynb#W6sdnNjb2RlLXJlbW90ZQ%3D%3D?line=11'>12</a>\u001b[0m mid \u001b[39m=\u001b[39m buffer \u001b[39m-\u001b[39m \u001b[39m2\u001b[39m\n",
      "\u001b[0;31mValueError\u001b[0m: Buffer should not be grater or equal than 8. buffer=8.1"
     ]
    }
   ],
   "source": [
    "def gen_buffer_list(buffer:float) -> list:\n",
    "    import warnings\n",
    "    lower_threshold = 3\n",
    "    upper_threshold = 8\n",
    "    upper_limit = 10\n",
    "    if(buffer <= lower_threshold):\n",
    "        raise ValueError(f\"Buffer can not be less than {lower_threshold}. {buffer=}\")\n",
    "    elif(buffer > upper_threshold):\n",
    "        raise ValueError(f\"Buffer should not be grater or equal than {upper_threshold}. {buffer=}\")\n",
    "\n",
    "    full = buffer\n",
    "    mid = buffer - 2\n",
    "    inner = 2\n",
    "    donut_full = (full, mid)\n",
    "    donut_mid = (mid, inner)\n",
    "    return [full, mid, inner, donut_full, donut_mid]\n",
    "\n",
    "gen_buffer_list(8.1)"
   ]
  }
 ],
 "metadata": {
  "kernelspec": {
   "display_name": "project-75lbbUUP",
   "language": "python",
   "name": "python3"
  },
  "language_info": {
   "codemirror_mode": {
    "name": "ipython",
    "version": 3
   },
   "file_extension": ".py",
   "mimetype": "text/x-python",
   "name": "python",
   "nbconvert_exporter": "python",
   "pygments_lexer": "ipython3",
   "version": "3.10.12"
  }
 },
 "nbformat": 4,
 "nbformat_minor": 2
}
